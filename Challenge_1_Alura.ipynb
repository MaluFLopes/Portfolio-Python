{
  "nbformat": 4,
  "nbformat_minor": 0,
  "metadata": {
    "colab": {
      "provenance": [],
      "authorship_tag": "ABX9TyPO2v/dl+yYREuaTvPo63j9",
      "include_colab_link": true
    },
    "kernelspec": {
      "name": "python3",
      "display_name": "Python 3"
    },
    "language_info": {
      "name": "python"
    }
  },
  "cells": [
    {
      "cell_type": "markdown",
      "metadata": {
        "id": "view-in-github",
        "colab_type": "text"
      },
      "source": [
        "<a href=\"https://colab.research.google.com/github/MaluFLopes/Portfolio-Python/blob/main/Challenge_1_Alura.ipynb\" target=\"_parent\"><img src=\"https://colab.research.google.com/assets/colab-badge.svg\" alt=\"Open In Colab\"/></a>"
      ]
    },
    {
      "cell_type": "markdown",
      "source": [
        "# Collection and sampling of data"
      ],
      "metadata": {
        "id": "dblgVH8GlNkD"
      }
    },
    {
      "cell_type": "markdown",
      "source": [
        "\n",
        "\n",
        "Create a program that asks the user to type their name, and prints \"Hello, [name]!\".\n",
        "\n"
      ],
      "metadata": {
        "id": "IkVJOfMqj_Qd"
      }
    },
    {
      "cell_type": "code",
      "execution_count": 1,
      "metadata": {
        "colab": {
          "base_uri": "https://localhost:8080/"
        },
        "id": "uzzLf_Elj5pp",
        "outputId": "649de13c-d4fc-4f13-878f-18feccbefd17"
      },
      "outputs": [
        {
          "output_type": "stream",
          "name": "stdout",
          "text": [
            "Type your name: Maria Luisa\n",
            "Hello, Maria Luisa!\n"
          ]
        }
      ],
      "source": [
        "name = input(\"Type your name: \")\n",
        "print(f\"Hello, {name}!\")"
      ]
    },
    {
      "cell_type": "markdown",
      "source": [
        "Create a program that asks the user to enter their name and age, and prints \"Hello, [name], you are [age] years old.\"."
      ],
      "metadata": {
        "id": "kl_EfdpBkXPz"
      }
    },
    {
      "cell_type": "code",
      "source": [
        "name = input(\"Type your name: \")\n",
        "age = input(\"Type your age: \")\n",
        "print(f\"Hello, {name}, you are {age} years old.\")"
      ],
      "metadata": {
        "colab": {
          "base_uri": "https://localhost:8080/"
        },
        "id": "0q238SqpkbCz",
        "outputId": "027212b2-526f-4cd8-f26e-e69331ad8c01"
      },
      "execution_count": 2,
      "outputs": [
        {
          "output_type": "stream",
          "name": "stdout",
          "text": [
            "Type your name: Maria Luisa\n",
            "Type your age: 25\n",
            "Hello, Maria Luisa, you are 25 years old.\n"
          ]
        }
      ]
    },
    {
      "cell_type": "markdown",
      "source": [
        "Create a program that asks the user to enter their name, age and height in meters, and prints \"Hello, [name], you are [age] years old and measure [height] meters!\"."
      ],
      "metadata": {
        "id": "Yjdh5ri2kwAf"
      }
    },
    {
      "cell_type": "code",
      "source": [
        "name = input(\"Type your name: \")\n",
        "age = input(\"Type your age: \")\n",
        "age = int(age)\n",
        "height = input(\"Type your height: \")\n",
        "height = \"%.2f\" %  float(height)\n",
        "print(f\"Hello, {name}, you are {age} years old and measure {height} meters.\")"
      ],
      "metadata": {
        "colab": {
          "base_uri": "https://localhost:8080/"
        },
        "id": "evfHuXOHkw5T",
        "outputId": "9cfed807-b50c-483d-a046-5b9b587d73ef"
      },
      "execution_count": 3,
      "outputs": [
        {
          "output_type": "stream",
          "name": "stdout",
          "text": [
            "Type your name: Maria Luisa\n",
            "Type your age: 25\n",
            "Type your height: 1.5\n",
            "Hello, Maria Luisa, you are 25 years old and measure 1.50 meters.\n"
          ]
        }
      ]
    },
    {
      "cell_type": "markdown",
      "source": [],
      "metadata": {
        "id": "WrD2y9KClMGr"
      }
    },
    {
      "cell_type": "markdown",
      "source": [
        "# Calculator with operators"
      ],
      "metadata": {
        "id": "FVmNYzpxlUq7"
      }
    },
    {
      "cell_type": "markdown",
      "source": [
        "Create a program that requests two numerical values from the user and prints the sum of the two values."
      ],
      "metadata": {
        "id": "Do_YC8iSlg-f"
      }
    },
    {
      "cell_type": "code",
      "source": [
        "number_1 = input(\"Type a number: \")\n",
        "number_2 = input(\"Type another number: \")\n",
        "sum = \"%.2f\" % (float(number_1) + float(number_2))\n",
        "print(f\"The sum of the two numbers is: {sum}\")"
      ],
      "metadata": {
        "colab": {
          "base_uri": "https://localhost:8080/"
        },
        "id": "i4ne2XLGlZo_",
        "outputId": "ae9b5c37-bb15-4ecd-ae42-2a3f69a1b907"
      },
      "execution_count": 10,
      "outputs": [
        {
          "output_type": "stream",
          "name": "stdout",
          "text": [
            "Type a number: 15\n",
            "Type another number: 36\n",
            "The sum of the two numbers is: 51.00\n"
          ]
        }
      ]
    },
    {
      "cell_type": "markdown",
      "source": [
        "Create a program that requests three numerical values from the user and prints the sum of the three values."
      ],
      "metadata": {
        "id": "pKz8B0_AmQ3K"
      }
    },
    {
      "cell_type": "code",
      "source": [
        "number_1 = input(\"Type a number: \")\n",
        "number_2 = input(\"Type another number: \")\n",
        "number_3 = input(\"Type another number: \")\n",
        "sum = \"%.2f\" % (float(number_1) + float(number_2) + float(number_3))\n",
        "print(f\"The sum of the three numbers is: {sum}\")"
      ],
      "metadata": {
        "colab": {
          "base_uri": "https://localhost:8080/"
        },
        "id": "9GmYBNzbmU_t",
        "outputId": "528fda9e-289c-4804-efd6-3591cdc5007d"
      },
      "execution_count": 8,
      "outputs": [
        {
          "output_type": "stream",
          "name": "stdout",
          "text": [
            "Type a number: 15.6\n",
            "Type another number: 32.6\n",
            "Type another number: 0.5\n",
            "The sum of the three numbers is: 48.70\n"
          ]
        }
      ]
    },
    {
      "cell_type": "markdown",
      "source": [
        "Create a program that requests two numerical values from the user and prints the subtraction of the first value by the second value."
      ],
      "metadata": {
        "id": "doeCxwkSnJEO"
      }
    },
    {
      "cell_type": "code",
      "source": [
        "number_1 = input(\"Type a number: \")\n",
        "number_2 = input(\"Type another number: \")\n",
        "subtraction = \"%.2f\" % (float(number_1) - float(number_2))\n",
        "print(f\"The subtraction of the two numbers is: {subtraction}\")"
      ],
      "metadata": {
        "colab": {
          "base_uri": "https://localhost:8080/"
        },
        "id": "ZjfysQabnOWl",
        "outputId": "871c1fc2-1ab4-407a-838d-a42dbac887c8"
      },
      "execution_count": 11,
      "outputs": [
        {
          "output_type": "stream",
          "name": "stdout",
          "text": [
            "Type a number: 36\n",
            "Type another number: 15\n",
            "The subtraction of the two numbers is: 21.00\n"
          ]
        }
      ]
    },
    {
      "cell_type": "markdown",
      "source": [
        "Create a program that requests two numerical values from the user and prints the multiplication of the two values."
      ],
      "metadata": {
        "id": "fEX5zei7nakn"
      }
    },
    {
      "cell_type": "code",
      "source": [
        "number_1 = input(\"Type a number: \")\n",
        "number_2 = input(\"Type another number: \")\n",
        "multiplication = \"%.2f\" % (float(number_1) * float(number_2))\n",
        "print(f\"The multiplication of the two numbers is: {multiplication}\")"
      ],
      "metadata": {
        "colab": {
          "base_uri": "https://localhost:8080/"
        },
        "id": "mJrfVYlhnbNL",
        "outputId": "c9042d58-781e-42d0-967e-14844e5d59ea"
      },
      "execution_count": 12,
      "outputs": [
        {
          "output_type": "stream",
          "name": "stdout",
          "text": [
            "Type a number: 6\n",
            "Type another number: 6\n",
            "The multiplication of the two numbers is: 36.00\n"
          ]
        }
      ]
    },
    {
      "cell_type": "markdown",
      "source": [
        "Create a program that asks for two numerical values, a numerator and a denominator, and performs the division between the two values. Make it clear that the value of the denominator cannot be 0."
      ],
      "metadata": {
        "id": "SnxPXZTBnp5W"
      }
    },
    {
      "cell_type": "code",
      "source": [
        "numerator = input(\"Type the numerator: \")\n",
        "denominator = input(\"Type the denominator: \")\n",
        "\n",
        "def division(numerator, denominator):\n",
        "  numerator = float(numerator)\n",
        "  denominator = float(denominator)\n",
        "\n",
        "  if denominator == 0:\n",
        "    print(\"The value of the denominator cannot be 0.\")\n",
        "    input(\"Type another number: \")\n",
        "  else:\n",
        "    division = \"%.2f\" % (numerator / denominator)\n",
        "    print(f\"The value for this division is: {division}\")\n",
        "\n",
        "\n",
        "division(numerator, denominator)"
      ],
      "metadata": {
        "colab": {
          "base_uri": "https://localhost:8080/"
        },
        "id": "H5ELQOXcnq3i",
        "outputId": "2f01f190-c2ca-42b9-8ce7-a4d197321eb3"
      },
      "execution_count": 20,
      "outputs": [
        {
          "name": "stdout",
          "output_type": "stream",
          "text": [
            "Type the number you want to divide: 10\n",
            "Type the number you want to divide with: 0\n",
            "The value of the denominator cannot be 0.\n",
            "Type another number: 0\n"
          ]
        }
      ]
    },
    {
      "cell_type": "code",
      "source": [
        "numerator = input(\"Type the numerator: \")\n",
        "denominator = input(\"Type the denominator: \")\n",
        "\n",
        "def division(numerator, denominator):\n",
        "  numerator = float(numerator)\n",
        "  denominator = float(denominator)\n",
        "\n",
        "  while denominator == 0:\n",
        "      print(\"The value of the denominator cannot be 0.\")\n",
        "      denominator = float(input(\"Type another denominator: \"))\n",
        "\n",
        "  division = \"%.2f\" % (numerator / denominator)\n",
        "  print(f\"The value for this division is: {division}\")\n",
        "\n",
        "\n",
        "division(numerator, denominator)"
      ],
      "metadata": {
        "colab": {
          "base_uri": "https://localhost:8080/"
        },
        "id": "wc5L6Mc7qMtM",
        "outputId": "915ce02d-8018-4505-87d3-39aecf9b9f7d"
      },
      "execution_count": 23,
      "outputs": [
        {
          "output_type": "stream",
          "name": "stdout",
          "text": [
            "Type the number you want to divide: 10\n",
            "Type the number you want to divide with: 0\n",
            "The value of the denominator cannot be 0.\n",
            "Type another denominator: 0\n",
            "The value of the denominator cannot be 0.\n",
            "Type another denominator: 0\n",
            "The value of the denominator cannot be 0.\n",
            "Type another denominator: 0\n",
            "The value of the denominator cannot be 0.\n",
            "Type another denominator: 10\n",
            "The value for this division is: 1.00\n"
          ]
        }
      ]
    },
    {
      "cell_type": "markdown",
      "source": [
        "Create a program that asks for two numerical values, an operator and a power, and performs the exponentiation between these two values."
      ],
      "metadata": {
        "id": "SVM8gXHMrmGO"
      }
    },
    {
      "cell_type": "code",
      "source": [
        "number_1 = input(\"Type a number: \")\n",
        "number_2 = input(\"Type another number: \")\n",
        "exponentiation = \"%.2f\" % (float(number_1) ** float(number_2))\n",
        "print(f\"The exponentiation of the two numbers is: {exponentiation}\")"
      ],
      "metadata": {
        "colab": {
          "base_uri": "https://localhost:8080/"
        },
        "id": "dao-DDPTr6gG",
        "outputId": "18d6e120-c4bf-4a81-dbb5-407ae04f28bc"
      },
      "execution_count": 24,
      "outputs": [
        {
          "output_type": "stream",
          "name": "stdout",
          "text": [
            "Type a number: 2\n",
            "Type another number: 4\n",
            "The exponentiation of the two numbers is: 16.00\n"
          ]
        }
      ]
    },
    {
      "cell_type": "markdown",
      "source": [
        "Create a program that asks for two numerical values, a numerator and a denominator, and performs integer division between the two values. Make it clear that the value of the denominator cannot be 0."
      ],
      "metadata": {
        "id": "cMLcMxIvsNF4"
      }
    },
    {
      "cell_type": "code",
      "source": [
        "numerator = input(\"Type the numerator: \")\n",
        "denominator = input(\"Type the denominator: \")\n",
        "\n",
        "def division(numerator, denominator):\n",
        "  numerator = float(numerator)\n",
        "  denominator = float(denominator)\n",
        "\n",
        "  while denominator == 0:\n",
        "      print(\"The value of the denominator cannot be 0.\")\n",
        "      denominator = float(input(\"Type another denominator: \"))\n",
        "\n",
        "  division = int(numerator // denominator)\n",
        "  print(f\"The integer division between this two values is: {division}\")\n",
        "\n",
        "\n",
        "division(numerator, denominator)"
      ],
      "metadata": {
        "colab": {
          "base_uri": "https://localhost:8080/"
        },
        "id": "xOvFikH0sQQv",
        "outputId": "cc7284e4-4d8e-4510-bac1-a1618a39e152"
      },
      "execution_count": 26,
      "outputs": [
        {
          "output_type": "stream",
          "name": "stdout",
          "text": [
            "Type the numerator: 11\n",
            "Type the denominator: 5\n",
            "The integer division between this two values is: 2\n"
          ]
        }
      ]
    },
    {
      "cell_type": "markdown",
      "source": [
        "Create a program that asks for two numerical values, a numerator and a denominator, and returns the remainder of the division between the two values. Make it clear that the value of the denominator cannot be 0."
      ],
      "metadata": {
        "id": "ZDwZzcNzs2rd"
      }
    },
    {
      "cell_type": "code",
      "source": [
        "numerator = input(\"Type the numerator: \")\n",
        "denominator = input(\"Type the denominator: \")\n",
        "\n",
        "def division(numerator, denominator):\n",
        "  numerator = float(numerator)\n",
        "  denominator = float(denominator)\n",
        "\n",
        "  while denominator == 0:\n",
        "      print(\"The value of the denominator cannot be 0.\")\n",
        "      denominator = float(input(\"Type another denominator: \"))\n",
        "\n",
        "  division = \"%.2f\" % float(numerator % denominator)\n",
        "  print(f\"The reminder of the division between this two values is: {division}\")\n",
        "\n",
        "\n",
        "division(numerator, denominator)"
      ],
      "metadata": {
        "colab": {
          "base_uri": "https://localhost:8080/"
        },
        "id": "GXs_ZZqZs7Jk",
        "outputId": "9e582225-cf89-475a-8e95-4ea9b9513447"
      },
      "execution_count": 27,
      "outputs": [
        {
          "output_type": "stream",
          "name": "stdout",
          "text": [
            "Type the numerator: 11\n",
            "Type the denominator: 5\n",
            "The reminder of the division between this two values is: 1.00\n"
          ]
        }
      ]
    },
    {
      "cell_type": "markdown",
      "source": [
        "Create a code that requests 3 grades from a student and prints the average of the grades."
      ],
      "metadata": {
        "id": "ju2GY5C2tQpT"
      }
    },
    {
      "cell_type": "code",
      "source": [
        "grades = []\n",
        "\n",
        "grade_1 = float(input(\"Type your first grade here: \"))\n",
        "grades.append(grade_1)\n",
        "grade_2 = float(input(\"Type your second grade here: \"))\n",
        "grades.append(grade_2)\n",
        "grade_3 = float(input(\"Type your third grade here: \"))\n",
        "grades.append(grade_3)\n",
        "\n",
        "average = \"%.2f\" % ((grade_1 + grade_2 + grade_3) / len(grades))\n",
        "\n",
        "\n",
        "print(f\"The average of your grades is: {average}\")"
      ],
      "metadata": {
        "colab": {
          "base_uri": "https://localhost:8080/"
        },
        "id": "c10rSRI6tVKC",
        "outputId": "b99d14af-a0d4-421c-dcd1-b66eeb272977"
      },
      "execution_count": 34,
      "outputs": [
        {
          "output_type": "stream",
          "name": "stdout",
          "text": [
            "Type your first grade here: 10\n",
            "Type your second grade here: 9\n",
            "Type your third grade here: 9\n",
            "The average of your grades is: 9.33\n"
          ]
        }
      ]
    },
    {
      "cell_type": "markdown",
      "source": [
        "Create a code that calculates and prints the weighted average of the numbers 5, 12, 20 and 15 with weights equal to 1, 2, 3 and 4 respectively."
      ],
      "metadata": {
        "id": "-iHLWknuxAkN"
      }
    },
    {
      "cell_type": "code",
      "source": [
        "number_1 = 5\n",
        "weight_1 = 1\n",
        "\n",
        "number_2 = 12\n",
        "weight_2 = 2\n",
        "\n",
        "number_3 = 20\n",
        "weight_3 = 3\n",
        "\n",
        "number_4 = 15\n",
        "weight_4 = 4\n",
        "\n",
        "average = (number_1*weight_1 + number_2*weight_2 + number_3*weight_3 + number_4*weight_4) / (weight_1 + weight_2 + weight_3 + weight_4)\n",
        "\n",
        "print(average)"
      ],
      "metadata": {
        "colab": {
          "base_uri": "https://localhost:8080/"
        },
        "id": "0idiEkKOxDIb",
        "outputId": "b3439955-9856-4e68-a26c-60e859918e4b"
      },
      "execution_count": 35,
      "outputs": [
        {
          "output_type": "stream",
          "name": "stdout",
          "text": [
            "14.9\n"
          ]
        }
      ]
    }
  ]
}