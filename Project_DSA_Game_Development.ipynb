{
  "nbformat": 4,
  "nbformat_minor": 0,
  "metadata": {
    "colab": {
      "provenance": [],
      "authorship_tag": "ABX9TyMwy3ge39r8zCjLQBJsyhsU",
      "include_colab_link": true
    },
    "kernelspec": {
      "name": "python3",
      "display_name": "Python 3"
    },
    "language_info": {
      "name": "python"
    }
  },
  "cells": [
    {
      "cell_type": "markdown",
      "metadata": {
        "id": "view-in-github",
        "colab_type": "text"
      },
      "source": [
        "<a href=\"https://colab.research.google.com/github/MaluFLopes/Portfolio-Python/blob/main/Project_DSA_Game_Development.ipynb\" target=\"_parent\"><img src=\"https://colab.research.google.com/assets/colab-badge.svg\" alt=\"Open In Colab\"/></a>"
      ]
    },
    {
      "cell_type": "markdown",
      "source": [
        "# HangMan"
      ],
      "metadata": {
        "id": "utNHoG7bSi-r"
      }
    },
    {
      "cell_type": "code",
      "source": [
        "import random\n",
        "from os import system, name\n",
        "from google.colab import output"
      ],
      "metadata": {
        "id": "QHe1pn-Q24Vk"
      },
      "execution_count": 1,
      "outputs": []
    },
    {
      "cell_type": "code",
      "source": [
        "def game():\n",
        "\n",
        "\tprint(\"\\nWelcome to the HangMan game!\")\n",
        "\tprint(\"Guess the word below:\\n\")\n",
        "\n",
        "\t#List of words for the game\n",
        "\twords = ['banana', 'apple', 'cherry', 'grape', 'strawberry', 'orange']\n",
        "\n",
        "\t#Choose a word at random\n",
        "\tword = random.choice(words)\n",
        "\n",
        "\t#Return the number of underscores in the word\n",
        "\tletters_discovered = [\"_\" for letter in word]\n",
        "\n",
        "\t#Number of chances\n",
        "\tchances = 6\n",
        "\n",
        "\t#List for wrong letters\n",
        "\twrong_letters = []\n",
        "\n",
        "\n",
        "\t#Loop while: as long as the number of chances is greater than zero\n",
        "\twhile chances > 0:\n",
        "\n",
        "\t\tprint(\" \".join(letters_discovered))\n",
        "\t\tprint(\"\\nRemainig chancs:\", chances)\n",
        "\t\tprint(\"Wrong letters:\", \" \".join(wrong_letters))\n",
        "\n",
        "\t\t#Attempts\n",
        "\t\tattempt = input(\"\\nDigite uma letra: \").lower()\n",
        "\n",
        "\t\t#Conditional\n",
        "\t\tif attempt in word:\n",
        "\t\t\tindex = 0\n",
        "\n",
        "\t\t\tfor letter in word:\n",
        "\t\t\t\tif attempt == letter:\n",
        "\t\t\t\t\tletters_discovered[index] = letter\n",
        "\t\t\t\tindex += 1\n",
        "\n",
        "\t\telse:\n",
        "\t\t\tchances -= 1\n",
        "\t\t\twrong_letters.append(attempt)\n",
        "\n",
        "\t\tif \"_\" not in letters_discovered:\n",
        "\t\t\tprint(\"\\nYou won, the word was: \", word)\n",
        "\t\t\tbreak\n",
        "\n",
        "\tif \"_\" in letters_discovered:\n",
        "\t\tprint(\"\\nYou lost, the word was: \", word)"
      ],
      "metadata": {
        "id": "FfRrTFS0Skgz"
      },
      "execution_count": 2,
      "outputs": []
    },
    {
      "cell_type": "code",
      "source": [
        "game()"
      ],
      "metadata": {
        "colab": {
          "base_uri": "https://localhost:8080/"
        },
        "id": "-tnKhZd32_Ii",
        "outputId": "99a75579-97a4-4af3-a1d8-79bdc2eed535"
      },
      "execution_count": 3,
      "outputs": [
        {
          "output_type": "stream",
          "name": "stdout",
          "text": [
            "\n",
            "Welcome to the HangMan game!\n",
            "Guess the word below:\n",
            "\n",
            "_ _ _ _ _ _\n",
            "\n",
            "Remainig chancs: 6\n",
            "Wrong letters: \n",
            "\n",
            "Digite uma letra: a\n",
            "_ _ _ _ _ _\n",
            "\n",
            "Remainig chancs: 5\n",
            "Wrong letters: a\n",
            "\n",
            "Digite uma letra: e\n",
            "_ _ e _ _ _\n",
            "\n",
            "Remainig chancs: 5\n",
            "Wrong letters: a\n",
            "\n",
            "Digite uma letra: c\n",
            "c _ e _ _ _\n",
            "\n",
            "Remainig chancs: 5\n",
            "Wrong letters: a\n",
            "\n",
            "Digite uma letra: r\n",
            "c _ e r r _\n",
            "\n",
            "Remainig chancs: 5\n",
            "Wrong letters: a\n",
            "\n",
            "Digite uma letra: h\n",
            "c h e r r _\n",
            "\n",
            "Remainig chancs: 5\n",
            "Wrong letters: a\n",
            "\n",
            "Digite uma letra: y\n",
            "\n",
            "You won, the word was:  cherry\n"
          ]
        }
      ]
    },
    {
      "cell_type": "code",
      "source": [
        "game()"
      ],
      "metadata": {
        "colab": {
          "base_uri": "https://localhost:8080/"
        },
        "id": "h99hRvbs3AQu",
        "outputId": "332235bd-7b7c-43fc-e6f4-f96b486a0601"
      },
      "execution_count": 4,
      "outputs": [
        {
          "output_type": "stream",
          "name": "stdout",
          "text": [
            "\n",
            "Welcome to the HangMan game!\n",
            "Guess the word below:\n",
            "\n",
            "_ _ _ _ _\n",
            "\n",
            "Remainig chancs: 6\n",
            "Wrong letters: \n",
            "\n",
            "Digite uma letra: a\n",
            "_ _ a _ _\n",
            "\n",
            "Remainig chancs: 6\n",
            "Wrong letters: \n",
            "\n",
            "Digite uma letra: b\n",
            "_ _ a _ _\n",
            "\n",
            "Remainig chancs: 5\n",
            "Wrong letters: b\n",
            "\n",
            "Digite uma letra: q\n",
            "_ _ a _ _\n",
            "\n",
            "Remainig chancs: 4\n",
            "Wrong letters: b q\n",
            "\n",
            "Digite uma letra: r\n",
            "_ r a _ _\n",
            "\n",
            "Remainig chancs: 4\n",
            "Wrong letters: b q\n",
            "\n",
            "Digite uma letra: f\n",
            "_ r a _ _\n",
            "\n",
            "Remainig chancs: 3\n",
            "Wrong letters: b q f\n",
            "\n",
            "Digite uma letra: s\n",
            "_ r a _ _\n",
            "\n",
            "Remainig chancs: 2\n",
            "Wrong letters: b q f s\n",
            "\n",
            "Digite uma letra: n\n",
            "_ r a _ _\n",
            "\n",
            "Remainig chancs: 1\n",
            "Wrong letters: b q f s n\n",
            "\n",
            "Digite uma letra: m\n",
            "\n",
            "You lost, the word was:  grape\n"
          ]
        }
      ]
    }
  ]
}